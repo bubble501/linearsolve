{
 "cells": [
  {
   "cell_type": "code",
   "execution_count": 1,
   "metadata": {
    "collapsed": false
   },
   "outputs": [
    {
     "ename": "IndentationError",
     "evalue": "unexpected indent (__init__.py, line 226)",
     "output_type": "error",
     "traceback": [
      "\u001b[0;36m  File \u001b[0;32m\"/Users/bcjenkin/Dropbox/GitHub/linearsolve-package/linearsolve/__init__.py\"\u001b[0;36m, line \u001b[0;32m226\u001b[0m\n\u001b[0;31m    if a is None and b is None:\u001b[0m\n\u001b[0m    ^\u001b[0m\n\u001b[0;31mIndentationError\u001b[0m\u001b[0;31m:\u001b[0m unexpected indent\n"
     ]
    }
   ],
   "source": [
    "import numpy as np\n",
    "import pandas as pd\n",
    "import matplotlib.pyplot as plt\n",
    "import linearsolve as ls\n",
    "np.set_printoptions(suppress=True)\n",
    "%matplotlib inline"
   ]
  },
  {
   "cell_type": "markdown",
   "metadata": {},
   "source": [
    "# The `linearsolve.model` class\n",
    "\n",
    "The `linearsolve.model` class package contains a several functions for approximating, solving, and simulating dynamic stochastic general equilibrium (DSGE) models. The equilibrium conditions for most DSGE models can be expressed as a vector function $F$:\n",
    "\n",
    "\\begin{align}\n",
    "F(E_t X_{t+1}, X_t, \\epsilon_{t+1}) = 0,\n",
    "\\end{align}\n",
    "\n",
    "where 0 is an $n\\times 1$ vector of zeros, $X_t$ is an $n\\times 1$ vector of endogenous variables, and $\\epsilon_{t+1}$ is an $m\\times 1$ vector of exogenous structural shocks to the model. $E_tX_{t+1}$ denotes the expecation of the $t+1$ endogenous variables based on the information available to decision makers in the model as of time period $t$. \n",
    "\n",
    "The function $F$ is often nonlinear. Because the values of the endogenous variables in period $t$ depend on the expected future values of those variables, it not in general possible to compute the equilibirum of the model by working directly with the function $F$. Instead it is often convenient to work with a log-linear approximation to the equilibrium conditions around a non-stochastic steady state. The log-linear approximation can often be written in the following form:\n",
    "\n",
    "\\begin{align}\n",
    "A E_t\\left[ x_{t+1} \\right] & = B x_t + \\left[ \\begin{array}{c} \\epsilon_{t+1} \\\\ 0 \\end{array} \\right],\n",
    "\\end{align}\n",
    "\n",
    "where the vector $x_{t}$ denotes the log deviation of the variables in $X_t$ from their steady state values. The variables in $x_t$ are grouped in a specific way: $x_t = [s_t; u_t]$ and $s_t$ is an $n_s \\times 1$ vector of predetermined (state) variables and $u_t$ is an $n_u \\times 1$ vector of nonpredetermined (forward-looking) variables. $\\epsilon_{t+1}$ is an $n_s\\times 1$ vector of i.i.d. shocks to the state variables $s_{t+1}$ with diagonal covariance matrix $\\Sigma$. The solution to the model is a pair of matrices $F$ and $P$ such that:\n",
    "\n",
    "\\begin{align}\n",
    "u_t  &  = Fs_t\\\\\n",
    "s_{t+1} & = Ps_t + \\epsilon_{t+1}.\n",
    "\\end{align}\n",
    "\n",
    "\n",
    "The matrices $F$ and $P$ are obtained using the [Klein (2000)](http://www.sciencedirect.com/science/article/pii/S0165188999000457) solution method which is based on the generalized Schur factorization of the marices $A$ and $B$. The solution routine incorporates many aspects of his program for Matlab [`solab.m`](http://paulklein.ca/newsite/codes/codes.php)\n",
    "\n",
    "This package defines a `linearsolve.model` class. An instance of the `linearsolve.model` has the following methods:\n",
    "\n",
    "1. `linearsolve.model.compute_ss(guess)`: Computes the steady state of the nonlinear model.\n",
    "2. `linearsolve.model.set_ss(steady_state)`: Sets the steady state `.ss` attribute of the instance.\n",
    "3. `linearsolve.model.log_linear(steady_state,islinear)`: Log-linearizes the nonlinear model and constructs the matrices $A$ and $B$.\n",
    "4. `linearsolve.model.klein(a,b)`: Solves the linear model using Klein's solution method.\n",
    "5. `impulse(T,t0,shock)`: Computes impulse responses for shocks to each endogenous state variable.\n",
    "6. `stoch_sim(T,dropFirst,covMat,seed)`: Simulates the model.\n",
    "\n",
    "In this notebook, I demonstrate how to use the module to simulate two basic business cycle models: an real business cycle (RBC) model and a new-Keynesian business cycle model."
   ]
  },
  {
   "cell_type": "markdown",
   "metadata": {},
   "source": [
    "### Example 1:  A quick example.\n",
    "\n",
    "Here I demonstrate how how relatively straightforward it is to solve and simulate a DSGE model using `linearsolve`. In the example that follows, I describe the procedure more carefully.\n",
    "\n",
    "\\begin{align}\n",
    "C_t^{-\\sigma} & = \\beta E_t \\left[C_{t+1}^{-\\sigma}(\\alpha A_{t+1} K_{t+1}^{\\alpha-1} + 1 - \\delta)\\right]\\\\\n",
    "C_t + K_{t+1} & = A_t K_t^{\\alpha} + (1-\\delta)K_t\\\\\n",
    "\\log A_t & = \\rho_a \\log A_{t-1} + \\epsilon_t\n",
    "\\end{align}\n",
    "\n",
    "In the block of code that immediately follows, I input the model, solve for the steady state, compute the log-linear approximation of the equilibirum conditions, and cmopute some impulse responses following a shock to technology $A_t$."
   ]
  },
  {
   "cell_type": "code",
   "execution_count": null,
   "metadata": {
    "collapsed": false
   },
   "outputs": [],
   "source": [
    "# Input model parameters\n",
    "alpha = .35\n",
    "beta = 0.99\n",
    "delta  = 0.025\n",
    "rhoa= .9\n",
    "sigma= 1.5\n",
    "A= 1\n",
    "\n",
    "parameters = [alpha, beta, delta, rhoa, sigma, A]\n",
    "\n",
    "def equilibrium_equations(vars_fwd,vars_cur,parameters):\n",
    "    \n",
    "    # Parameters \n",
    "    alpha, beta, delta, rhoa, sigma, A= parameters\n",
    "    \n",
    "    # Define the variables: predetermined or state variables come first\n",
    "    technology_fwd, capital_fwd, consumption_fwd, auxiliary_fwd = vars_fwd\n",
    "    technology_cur, capital_cur, consumption_cur, auxiliary_cur = vars_cur\n",
    "    \n",
    "    # Household Euler equation\n",
    "    euler_eqn = [consumption_cur**-sigma,beta*consumption_fwd**-sigma*(alpha*auxiliary_fwd*capital_fwd**(alpha-1)+1-delta)]\n",
    "    \n",
    "    # Goods market clearing\n",
    "    market_clearing = [technology_cur*capital_cur**alpha, consumption_cur + capital_fwd - (1-delta)*capital_cur]\n",
    "        \n",
    "    # Exogenous technology\n",
    "    technology_proc = [technology_fwd, technology_cur**rhoa]\n",
    "    \n",
    "    # Define aux = A so that A does not appear in more than 2 time periods\n",
    "    auxiliary_variable = [auxiliary_cur, technology_fwd]\n",
    "    \n",
    "    # Stack equilibrium conditions into a numpy array\n",
    "    return np.array([\n",
    "            euler_eqn,\n",
    "            market_clearing,\n",
    "            technology_proc,\n",
    "            auxiliary_variable\n",
    "        ])\n",
    "\n",
    "# Initialize the model\n",
    "model = ls.model(equations = equilibrium_equations,nstates=2,varNames=['a','k','c','aux',],shockNames=['eA','eK'],parameters = parameters)\n",
    "\n",
    "# Compute the steady state numerically\n",
    "guess = [1,1,1,1]\n",
    "model.compute_ss(guess)\n",
    "\n",
    "# Find the log-linear approximation around the non-stochastic steady state\n",
    "model.log_linear()\n",
    "\n",
    "# Solve the model\n",
    "model.solve_klein(model.a,model.b)\n",
    "\n",
    "# Compute impulse responses and plot\n",
    "model.impulse(T=41,t0=5,shock=None)\n",
    "\n",
    "fig = plt.figure(figsize=(12,4))\n",
    "ax1 =fig.add_subplot(1,2,1)\n",
    "model.irs['eA'][['a','k','c']].plot(lw='5',alpha=0.5,grid=True,ax=ax1).legend(loc='upper right',ncol=3)\n",
    "ax2 =fig.add_subplot(1,2,2)\n",
    "model.irs['eA'][['eA','a']].plot(lw='5',alpha=0.5,grid=True,ax=ax2).legend(loc='upper right',ncol=2)"
   ]
  },
  {
   "cell_type": "markdown",
   "metadata": {},
   "source": [
    "### Example 2:  A slightly more elaborate model with explanation \n",
    "\n",
    "Consider the equilibrium conditions for a basic RBC model without labor:\n",
    "\n",
    "\\begin{align}\n",
    "C_t^{-\\sigma} & = \\beta E_t \\left[C_{t+1}^{-\\sigma}(\\alpha A_{t+1} K_{t+1}^{\\alpha-1} + 1 - \\delta)\\right]\\\\\n",
    "Y_t & = A_t K_t^{\\alpha}\\\\\n",
    "I_t & = K_{t+1} - (1-\\delta)K_t\\\\\n",
    "Y_t & = C_t + I_t\\\\\n",
    "\\log A_t & = \\rho_a \\log A_{t-1} + \\epsilon_t\n",
    "\\end{align}\n",
    "\n",
    "In the nonstochastic steady state, we have:\n",
    "\n",
    "\\begin{align}\n",
    "K & = \\left(\\frac{\\alpha A}{1/\\beta+\\delta-1}\\right)^{\\frac{1}{1-\\alpha}}\\\\\n",
    "Y & = AK^{\\alpha}\\\\\n",
    "I & = \\delta K\\\\\n",
    "C & = Y - I\n",
    "\\end{align}\n",
    "\n",
    "Given values for the parameters $\\beta$, $\\sigma$, $\\alpha$, $\\delta$, and $A$, steady state values of capital,  output, investment, and consumption are easily computed.\n",
    "\n",
    "#### Initializing the model in `linearsolve`\n",
    "\n",
    "To initialize the model, we need to first set the model's parameters:"
   ]
  },
  {
   "cell_type": "code",
   "execution_count": null,
   "metadata": {
    "collapsed": true
   },
   "outputs": [],
   "source": [
    "# Input model parameters\n",
    "alpha = .35\n",
    "beta = 0.99\n",
    "delta  = 0.025\n",
    "rhoa= .9\n",
    "sigma= 1.5\n",
    "A= 1\n",
    "\n",
    "parameters = [alpha, beta, delta, rhoa, sigma, A]\n",
    "parameterNames = ['alpha', 'beta', 'delta', 'rhoa', 'sigma', 'A']"
   ]
  },
  {
   "cell_type": "markdown",
   "metadata": {},
   "source": [
    "Next, we need to define a function that returns the equilibrium conditions of the model. The function will take as inputs two vectors: one vector of \"current\" variables and another of \"forward-looking\" or one-period-ahead variables. The function will return an array that represents the equilibirum conditions of the model. We'll enter each equation as a list with two elements, a left and right element reflecting each side of the equals sign. For example, here's how we'll enter the produciton fucntion:\n",
    "\n",
    "`production_fuction = [output_cur, technology_cur*capital_cur**alpha]`\n",
    "\n",
    "Here the variable `production_function` stores the left and right side of the production function equation. We can enter the equations in almost any way we want with the following requirement: each side of the equation must be positive. That means that the following two approaches, while apparently matmatically valid, will cause problems with the solution routine:\n",
    "\n",
    "* `production_fuction = [0, technology_cur*capital_cur**alpha - output_cur]`\n",
    "* `production_fuction = [-output_cur, -technology_cur*capital_cur**alpha]`\n",
    "\n",
    "One more thing to consider: the natural log in the equation describing the evolution of total factor productivity will create problems for the solution routine later on. So rewrite the equation as:\n",
    "\n",
    "\\begin{align}\n",
    "A_t & =  A_{t-1}^{\\rho_a}e^{\\epsilon_{t+1}}\\\\\n",
    "\\end{align}\n",
    "\n",
    "So the complete system of equations that we enter into the program looks like:\n",
    "\n",
    "\\begin{align}\n",
    "C_t^{-\\sigma} & = \\beta E_t \\left[C_{t+1}^{-\\sigma}(\\alpha Y_{t+1} /K_{t+1}+ 1 - \\delta)\\right]\\\\\n",
    "Y_t & = A_t K_t^{\\alpha}\\\\\n",
    "I_t & = K_{t+1} - (1-\\delta)K_t\\\\\n",
    "Y_t & = C_t + I_t\\\\\n",
    "A_t & =  A_{t-1}^{\\rho_a}e^{\\epsilon_{t+1}}\n",
    "\\end{align}\n",
    "\n",
    "Now let's define the function that returns the equilibrium conditions:"
   ]
  },
  {
   "cell_type": "code",
   "execution_count": null,
   "metadata": {
    "collapsed": true
   },
   "outputs": [],
   "source": [
    "def equilibrium_equations(vars_fwd,vars_cur,parameters):\n",
    "    \n",
    "    # Parameters \n",
    "    alpha, beta, delta, rhoa, sigma, A= parameters\n",
    "    \n",
    "    # Define the variables: predetermined or state variables come first\n",
    "    technology_fwd, capital_fwd, consumption_fwd, output_fwd, invest_fwd= vars_fwd\n",
    "    technology_cur, capital_cur, consumption_cur, output_cur, invest_cur= vars_cur\n",
    "    \n",
    "    # Household Euler equation\n",
    "    euler_eqn = [consumption_cur**-sigma,beta*consumption_fwd**-sigma*(alpha*output_fwd/capital_fwd+1-delta)]\n",
    "    \n",
    "    # Production function\n",
    "    production_fuction = [output_cur, technology_cur*capital_cur**alpha]\n",
    "    \n",
    "    # Capital evolution\n",
    "    capital_evolution = [invest_cur, capital_fwd - (1-delta)*capital_cur]\n",
    "    \n",
    "    # Goods market clearing\n",
    "    market_clearing = [output_cur,consumption_cur + invest_cur]\n",
    "        \n",
    "    # Exogenous technology\n",
    "    technology_proc = [technology_fwd, technology_cur**rhoa]\n",
    "    \n",
    "    # Stack equilibrium conditions into a numpy array\n",
    "    return np.array([\n",
    "            euler_eqn,\n",
    "            production_fuction,\n",
    "            capital_evolution,\n",
    "            market_clearing,\n",
    "            technology_proc\n",
    "        ])"
   ]
  },
  {
   "cell_type": "markdown",
   "metadata": {},
   "source": [
    "Notice that inside the function we have to define the variables of the model form the elements of the input vectors `vars_fwd` and `vars_cur`. It is *essential* that the predetermined or state variables are ordered first.\n",
    "\n",
    "#### Initializing the model\n",
    "\n",
    "To initialize the model, we need to specify the number of state variables in the model, the names of the endogenous varaibles in the same order used in the `equilibrium_equations` function, and the names of the exogenous shocks to the model."
   ]
  },
  {
   "cell_type": "code",
   "execution_count": null,
   "metadata": {
    "collapsed": false
   },
   "outputs": [],
   "source": [
    "# Initialize the model\n",
    "rbc = ls.model(equations = equilibrium_equations,\n",
    "               nstates=2,\n",
    "               varNames=['a','k','c','y','i'],\n",
    "               shockNames=['eA','eK'],\n",
    "               parameters=parameters,\n",
    "               parameterNames = parameterNames)"
   ]
  },
  {
   "cell_type": "markdown",
   "metadata": {},
   "source": [
    "The solution routine solves the model as if there were a separate exogenous shock for each state variable and that's why I initialized the model with two exogenous shocks `eA` and `eK` even though the RBC model only has one exogenous shock.\n",
    "\n",
    "#### Steady state\n",
    "\n",
    "Next, we need to compute the nonstochastic steady state of the model. The `.compute_ss` method can be used to compute the steady state numerically. The method's default is to use scipy's `fsolve` function, but other scipy root-finding functions can be used: `root`, `broyden1`, and `broyden2`. The optional argument `options` lets the user pass keywords directly to the optimization function."
   ]
  },
  {
   "cell_type": "code",
   "execution_count": null,
   "metadata": {
    "collapsed": false
   },
   "outputs": [],
   "source": [
    "# Compute the steady state numerically\n",
    "guess = [1,1,1,1,1]\n",
    "rbc.compute_ss(guess)\n",
    "ssSeries = pd.Series(rbc.ss,index=rbc.names['endo'])\n",
    "print(ssSeries)"
   ]
  },
  {
   "cell_type": "markdown",
   "metadata": {},
   "source": [
    "Alternatively, you could compute the steady state directly and then sent the `rbc.ss` attribute:"
   ]
  },
  {
   "cell_type": "code",
   "execution_count": null,
   "metadata": {
    "collapsed": false,
    "scrolled": false
   },
   "outputs": [],
   "source": [
    "# Steady state solution\n",
    "K = (alpha*A/(1/beta+delta-1))**(1/(1-alpha))\n",
    "C = A*K**alpha - delta*K\n",
    "Y = A*K**alpha\n",
    "I = Y - C\n",
    "\n",
    "rbc.set_ss([A,K,C,Y,I])\n",
    "ssSeries = pd.Series(rbc.ss,index=rbc.names['endo'])\n",
    "print(ssSeries)"
   ]
  },
  {
   "cell_type": "markdown",
   "metadata": {},
   "source": [
    "#### Log-linearization and solution\n",
    "\n",
    "Now we use the `.log_linear` method to find the log-linear appxoximation to the model's equilibrium conditions. That is, we'll transform the nonlinear model into a linear model in which all variables are expressed as log-deviations from the steady state. Specifically, we'll compute the matrices $A$ and $B$ that satisfy:\n",
    "\n",
    "\\begin{align}\n",
    "A E_t\\left[ x_{t+1} \\right] & = B x_t + \\left[ \\begin{array}{c} \\epsilon_{t+1} \\\\ 0 \\end{array} \\right],\n",
    "\\end{align}\n",
    "\n",
    "where the vector $x_{t}$ denotes the log deviation of the endogenous variables from their steady state values."
   ]
  },
  {
   "cell_type": "code",
   "execution_count": null,
   "metadata": {
    "collapsed": false
   },
   "outputs": [],
   "source": [
    "# Find the log-linear approximation around the non-stochastic steady state\n",
    "rbc.log_linear()\n",
    "\n",
    "print('The matrix A:\\n\\n',np.around(rbc.a,4),'\\n\\n')\n",
    "print('The matrix B:\\n\\n',np.around(rbc.b,4))"
   ]
  },
  {
   "cell_type": "markdown",
   "metadata": {},
   "source": [
    "Finally, we need to obtain the *solution* to the log-linearized model. The solution is a pair of matrices $F$ and $P$ that specify:\n",
    "\n",
    "1. The current values of the non-state variables $u_{t}$ as a linear function of the previous values of the state variables $s_t$.\n",
    "1. The future values of the state variables $s_{t+1}$ as a linear function of the previous values of the state variables $s_t$ and the future realisation of the exogenous shock process $\\epsilon_{t+1}$.\n",
    "\n",
    "\\begin{align}\n",
    "u_t  &  = Fs_t\\\\\n",
    "s_{t+1} & = Ps_t + \\epsilon_{t+1}.\n",
    "\\end{align}\n",
    "\n",
    "We use the `.klein` method to find the solution."
   ]
  },
  {
   "cell_type": "code",
   "execution_count": null,
   "metadata": {
    "collapsed": false
   },
   "outputs": [],
   "source": [
    "# Solve the model\n",
    "rbc.solve_klein(rbc.a,rbc.b)\n",
    "\n",
    "# Display the output\n",
    "print('The matrix F:\\n\\n',np.around(rbc.f,4),'\\n\\n')\n",
    "print('The matrix P:\\n\\n',np.around(rbc.p,4))"
   ]
  },
  {
   "cell_type": "markdown",
   "metadata": {},
   "source": [
    "#### Impulse responses\n",
    "\n",
    "One the model is solved, use the `.impulse` method to compute impulse responses to exogenous shocks to the state. The method creates the `.irs` attribute which is a dictionary with keys equal to the names of the exogenous shocks and the values are Pandas DataFrames with the computed impulse respones. You can supply your own values for the shocks, but the default is 0.01 for each exogenous shock."
   ]
  },
  {
   "cell_type": "code",
   "execution_count": null,
   "metadata": {
    "collapsed": false
   },
   "outputs": [],
   "source": [
    "# Compute impulse responses and plot\n",
    "rbc.impulse(T=41,t0=1,shock=None,percent=True)\n",
    "\n",
    "print('Impulse responses to a 0.01 unit shock to A:\\n\\n',rbc.irs['eA'].head())"
   ]
  },
  {
   "cell_type": "markdown",
   "metadata": {},
   "source": [
    "Plotting is easy."
   ]
  },
  {
   "cell_type": "code",
   "execution_count": null,
   "metadata": {
    "collapsed": false
   },
   "outputs": [],
   "source": [
    "rbc.irs['eA'][['a','k','c','y','i']].plot(lw='5',alpha=0.5,grid=True).legend(loc='upper right',ncol=2)\n",
    "rbc.irs['eA'][['eA','a']].plot(lw='5',alpha=0.5,grid=True).legend(loc='upper right',ncol=2)"
   ]
  },
  {
   "cell_type": "markdown",
   "metadata": {},
   "source": [
    "#### Stochastic simulation\n",
    "\n",
    "Creating a stochastic simulation of the model is straightforward with the `.stoch_sim` method. In the following example, I create a 151 period (including t=0) simulation by first siumlating the model for 251 periods and then dropping the first 100 values. The variance of the shock to $A_t$ is set to 0.001 and the variance of the shock to $K_t$ is set to zero because there is not capital shock in the model. The seed for the numpy random number generator is set to 0."
   ]
  },
  {
   "cell_type": "code",
   "execution_count": null,
   "metadata": {
    "collapsed": false
   },
   "outputs": [],
   "source": [
    "rbc.stoch_sim(T=121,dropFirst=100,covMat=np.array([[0.001,0],[0,0]]),seed=0,percent=True)\n",
    "rbc.simulated[['k','c','y','i']].plot(lw='5',alpha=0.5,grid=True).legend(loc='upper right',ncol=4)\n",
    "rbc.simulated[['a']].plot(lw='5',alpha=0.5,grid=True).legend(ncol=4)\n",
    "rbc.simulated[['eA','eK']].plot(lw='5',alpha=0.5,grid=True).legend(ncol=4)"
   ]
  },
  {
   "cell_type": "markdown",
   "metadata": {},
   "source": [
    "### Example 3: A New-Keynesian business cycle model\n",
    "\n",
    "Consider the new-Keynesian model from Walsh (2010), chapter 8 expressed in log-linear terms:\n",
    "\n",
    "\\begin{align}\n",
    "y_t & = E_ty_{t+1} - \\sigma^{-1} (i_t - E_t\\pi_{t+1}) + g_t\\\\\n",
    "\\pi_t & = \\beta  E_t\\pi_{t+1} + \\kappa  y_t + u_t\\\\\n",
    "i_t & = \\phi_x  y_t + \\phi_{\\pi}  \\pi_t + v_t\\\\\n",
    "r_t & = i_t - E_t\\pi_{t+1}\\\\\n",
    "g_t & = \\rho_g g_{t-1} + \\epsilon_t^g\\\\\n",
    "u_t & = \\rho_u u_{t-1} + \\epsilon_t^u\\\\\n",
    "v_t & = \\rho_v v_{t-1} + \\epsilon_t^v\n",
    "\\end{align}\n",
    "\n",
    "where $y_t$ is the output gap (log-deviation of output from the natural rate), $\\pi_t$ is the quarterly rate of inflation between $t-1$ and $t$, $i_t$ is the nominal interest rate on funds moving between period $t$ and $t+1$, $r_t$ is the real interest rate, $g_t$ is the exogenous component of demand, $u_t$ is an exogenous component of inflation, and $v_t$ is the exogenous component of monetary policy.\n",
    "\n",
    "Since the model is already log-linear, there is no need to approximate the equilibrium conditions. We'll still use the `.log_linear` method to find the matrices $A$ and $B$, but we'll have to set the `islinear` option to `True` to avoid generating an error."
   ]
  },
  {
   "cell_type": "code",
   "execution_count": null,
   "metadata": {
    "collapsed": false
   },
   "outputs": [],
   "source": [
    "# Input model parameters\n",
    "beta = 0.99\n",
    "sigma= 1\n",
    "eta  = 1\n",
    "omega= 0.8\n",
    "kappa= (sigma+eta)*(1-omega)*(1-beta*omega)/omega\n",
    "\n",
    "rhor = 0.9\n",
    "phipi= 1.5\n",
    "phiy = 0\n",
    "\n",
    "rhog = 0.5\n",
    "rhou = 0.5\n",
    "rhov = 0.9\n",
    "\n",
    "Sigma = 0.001*np.eye(3)\n",
    "\n",
    "parameters = [beta,sigma,eta,omega,kappa,rhor,phipi,phiy,rhog,rhou,rhov]\n",
    "parameterNames = ['beta','sigma','eta','omega','kappa','rhor','phipi','phiy','rhog','rhou','rhov']\n",
    "\n",
    "def equilibrium_equations(vars_fwd,vars_cur,parameters):\n",
    "    \n",
    "    # Parameters\n",
    "    beta,sigma,eta,omega,kappa,rhor,phipi,phiy,rhog,rhou,rhov = parameters\n",
    "    \n",
    "    # Define variables\n",
    "    g_fwd, u_fwd, v_fwd, i_fwd, r_fwd, y_fwd, pi_fwd = vars_fwd\n",
    "    g_cur, u_cur, v_cur, i_cur, r_cur, y_cur, pi_cur = vars_cur\n",
    "    \n",
    "    # Exogenous demand\n",
    "    g_proc = [g_fwd, rhog*g_cur]\n",
    "    \n",
    "    # Exogenous inflation\n",
    "    u_proc = [u_fwd, rhou*u_cur]\n",
    "    \n",
    "    # Exogenous monetary policy\n",
    "    v_proc = [v_fwd, rhov*v_cur]\n",
    "    \n",
    "    # Euler equation\n",
    "    euler_eqn = [y_cur,y_fwd -1/sigma*(i_cur-pi_fwd) + g_fwd]\n",
    "    \n",
    "    # NK Phillips curve evolution\n",
    "    phillips_curve = [pi_cur, beta*pi_fwd + kappa*y_cur + u_fwd]\n",
    "    \n",
    "    # interest rate rule\n",
    "    interest_rule = [i_cur,phiy*y_cur+phipi*pi_cur + v_fwd]\n",
    "    \n",
    "    # Fisher equation\n",
    "    fisher_eqn = [r_cur,i_cur-pi_fwd]\n",
    "    \n",
    "    \n",
    "    # Stack equilibrium conditions into a numpy array\n",
    "    return np.array([\n",
    "            g_proc,\n",
    "            u_proc,\n",
    "            v_proc,\n",
    "            euler_eqn,\n",
    "            phillips_curve,\n",
    "            interest_rule,\n",
    "            fisher_eqn\n",
    "        ])\n",
    "\n",
    "# Initialize the nk\n",
    "nk = ls.model(equilibrium_equations,nstates=3,varNames=['g','u','v','i','r','y','pi'],shockNames=['eG','eU','eV'],parameters=parameters)\n",
    "\n",
    "# Set the steady state of the nk\n",
    "nk.set_ss([0,0,0,0,0,0,0])\n",
    "\n",
    "# Find the log-linear approximation around the non-stochastic steady state\n",
    "nk.log_linear(islinear=True)\n",
    "\n",
    "# Solve the nk\n",
    "nk.solve_klein(nk.a,nk.b)"
   ]
  },
  {
   "cell_type": "code",
   "execution_count": null,
   "metadata": {
    "collapsed": false
   },
   "outputs": [],
   "source": [
    "# Compute impulse responses and plot\n",
    "nk.impulse(T=11,t0=1,shock=None)\n",
    "\n",
    "# Create the figure and axes\n",
    "fig = plt.figure(figsize=(12,12))\n",
    "ax1 = fig.add_subplot(3,1,1)\n",
    "ax2 = fig.add_subplot(3,1,2)\n",
    "ax3 = fig.add_subplot(3,1,3)\n",
    "\n",
    "# Plot commands\n",
    "nk.irs['eG'][['g','y','i','pi','r']].plot(lw='5',alpha=0.5,grid=True,title='Demand shock',ax=ax1).legend(loc='upper right',ncol=5)\n",
    "nk.irs['eU'][['u','y','i','pi','r']].plot(lw='5',alpha=0.5,grid=True,title='Inflation shock',ax=ax2).legend(loc='upper right',ncol=5)\n",
    "nk.irs['eV'][['v','y','i','pi','r']].plot(lw='5',alpha=0.5,grid=True,title='Interest rate shock',ax=ax3).legend(loc='upper right',ncol=5)"
   ]
  },
  {
   "cell_type": "code",
   "execution_count": null,
   "metadata": {
    "collapsed": false
   },
   "outputs": [],
   "source": [
    "nk.stoch_sim(T=151,dropFirst=100,covMat=Sigma,seed=0)\n",
    "\n",
    "# Create the figure and axes\n",
    "fig = plt.figure(figsize=(12,8))\n",
    "ax1 = fig.add_subplot(2,1,1)\n",
    "ax2 = fig.add_subplot(2,1,2)\n",
    "\n",
    "# Plot commands\n",
    "nk.simulated[['y','i','pi','r']].plot(lw='5',alpha=0.5,grid=True,title='Output, inflation, and interest rates',ax=ax1).legend(ncol=4)\n",
    "nk.simulated[['g','u','v']].plot(lw='5',alpha=0.5,grid=True,title='Exogenous demand, inflation, and policy',ax=ax2).legend(ncol=4,loc='lower right')"
   ]
  },
  {
   "cell_type": "code",
   "execution_count": null,
   "metadata": {
    "collapsed": false
   },
   "outputs": [],
   "source": [
    "nk.simulated[['eG','g']].plot(lw='5',alpha=0.5,grid=True).legend(ncol=2)\n",
    "nk.simulated[['eU','u']].plot(lw='5',alpha=0.5,grid=True).legend(ncol=2)\n",
    "nk.simulated[['eV','v']].plot(lw='5',alpha=0.5,grid=True).legend(ncol=2)"
   ]
  }
 ],
 "metadata": {
  "kernelspec": {
   "display_name": "Python 3",
   "language": "python",
   "name": "python3"
  },
  "language_info": {
   "codemirror_mode": {
    "name": "ipython",
    "version": 3
   },
   "file_extension": ".py",
   "mimetype": "text/x-python",
   "name": "python",
   "nbconvert_exporter": "python",
   "pygments_lexer": "ipython3",
   "version": "3.4.4"
  }
 },
 "nbformat": 4,
 "nbformat_minor": 0
}
